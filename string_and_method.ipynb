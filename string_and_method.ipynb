{
  "nbformat": 4,
  "nbformat_minor": 0,
  "metadata": {
    "colab": {
      "provenance": []
    },
    "kernelspec": {
      "name": "python3",
      "display_name": "Python 3"
    },
    "language_info": {
      "name": "python"
    }
  },
  "cells": [
    {
      "cell_type": "code",
      "execution_count": null,
      "metadata": {
        "colab": {
          "base_uri": "https://localhost:8080/"
        },
        "id": "tm0erqCzez3i",
        "outputId": "d69ba378-4cfa-46cf-a73f-d87edbf34978"
      },
      "outputs": [
        {
          "output_type": "stream",
          "name": "stdout",
          "text": [
            "Welcome to the world\n",
            "Welcome to \f the world\n",
            "Welcome to \r world\n",
            "Welcome to wor\rld\n"
          ]
        }
      ],
      "source": [
        "#form feed and carriage return\n",
        "#\\f \\r\n",
        "x=\"Welcome to the world\"\n",
        "print(x)\n",
        "\n",
        "x=\"Welcome to \\f the world\"\n",
        "print(x)\n",
        "\n",
        "x=\"Welcome to \\r world\"\n",
        "print(x)\n",
        "\n",
        "x=\"Welcome to wor\\rld\"\n",
        "print(x)"
      ]
    },
    {
      "cell_type": "code",
      "source": [
        "#merging\n",
        "a=\"Python\"\n",
        "b=\"programming\"\n",
        "print(a+b)\n",
        "print(a+\" \"+b)\n",
        "print(\"c=\",a+b)\n",
        "print(\"c=\",a+\" \"+b)\n",
        "\n",
        "c=a+b\n",
        "print(c)\n",
        "\n"
      ],
      "metadata": {
        "colab": {
          "base_uri": "https://localhost:8080/"
        },
        "id": "gmeTN6b7wqis",
        "outputId": "656b32a3-5ef7-42c2-8e94-b544998f2847"
      },
      "execution_count": null,
      "outputs": [
        {
          "output_type": "stream",
          "name": "stdout",
          "text": [
            "Pythonprogramming\n",
            "Python programming\n",
            "c= Pythonprogramming\n",
            "c= Python programming\n",
            "Pythonprogramming\n"
          ]
        }
      ]
    },
    {
      "cell_type": "code",
      "source": [
        "d=(a*b)+c\n",
        "print(f\"float value of d is : {d:.2f}\")"
      ],
      "metadata": {
        "colab": {
          "base_uri": "https://localhost:8080/"
        },
        "id": "ThnawSzCvlx2",
        "outputId": "59736991-ddc7-4bff-d1db-c49c13397d8d"
      },
      "execution_count": null,
      "outputs": [
        {
          "output_type": "stream",
          "name": "stdout",
          "text": [
            "float value of d is : 11.00\n"
          ]
        }
      ]
    },
    {
      "cell_type": "code",
      "source": [
        "#boolean\n",
        "print(100>50)\n",
        "print(100<50)\n",
        "print(50<100)\n",
        "print(50>=50)\n",
        "print(50<=50)\n",
        "print(100==100)\n",
        "print(50!=20)\n",
        "print(50!=50)\n",
        "\n",
        "\n"
      ],
      "metadata": {
        "colab": {
          "base_uri": "https://localhost:8080/"
        },
        "id": "pBVpRsJihYuX",
        "outputId": "cad9ba8b-1aa3-441d-ff89-e56b50771006"
      },
      "execution_count": null,
      "outputs": [
        {
          "output_type": "stream",
          "name": "stdout",
          "text": [
            "True\n",
            "False\n",
            "True\n",
            "True\n",
            "True\n",
            "True\n",
            "True\n",
            "False\n"
          ]
        }
      ]
    },
    {
      "cell_type": "code",
      "source": [
        "print(bool(\"python\"))\n",
        "print(bool(\" \"))\n",
        "print(bool(\"\"))\n",
        "print(bool(1))\n",
        "print(bool(0))\n",
        "print(bool(()))\n",
        "print(bool((1)))\n",
        "print(bool([1,2,3]))\n",
        "print(bool({1,2,3}))\n",
        "print(bool({}))\n"
      ],
      "metadata": {
        "colab": {
          "base_uri": "https://localhost:8080/"
        },
        "id": "uepyauq8rrSY",
        "outputId": "713d69a0-890a-4ecd-a775-41783cb35763"
      },
      "execution_count": null,
      "outputs": [
        {
          "output_type": "stream",
          "name": "stdout",
          "text": [
            "True\n",
            "True\n",
            "False\n",
            "True\n",
            "False\n",
            "False\n",
            "True\n",
            "True\n",
            "True\n",
            "False\n"
          ]
        }
      ]
    },
    {
      "cell_type": "code",
      "source": [
        "#casefold()\n",
        "x=\"WELCOME to the world\"\n",
        "print(x.casefold())\n"
      ],
      "metadata": {
        "colab": {
          "base_uri": "https://localhost:8080/"
        },
        "id": "2aA9lf8WhxXF",
        "outputId": "c1d05fd6-af44-4ac3-f81e-55f63f2463e8"
      },
      "execution_count": null,
      "outputs": [
        {
          "output_type": "stream",
          "name": "stdout",
          "text": [
            "welcome to the world\n"
          ]
        }
      ]
    },
    {
      "cell_type": "code",
      "source": [
        "#center()\n",
        "x=\"Python Programming\"\n",
        "print(x.center(100))"
      ],
      "metadata": {
        "colab": {
          "base_uri": "https://localhost:8080/"
        },
        "id": "-3TZLnMQiJ46",
        "outputId": "9e5e10d0-2017-4930-a05c-4a5d4c1054a3"
      },
      "execution_count": null,
      "outputs": [
        {
          "output_type": "stream",
          "name": "stdout",
          "text": [
            "                                         Python Programming                                         \n"
          ]
        }
      ]
    },
    {
      "cell_type": "code",
      "source": [
        "#count()\n",
        "x=\"Python Programming\"\n",
        "print(x.count('P'))\n",
        "print(x.count('p'))\n",
        "print(x.count('m'))\n",
        "print(x.count('y'))"
      ],
      "metadata": {
        "colab": {
          "base_uri": "https://localhost:8080/"
        },
        "id": "ISMtkFUgilsv",
        "outputId": "4a90aabb-162c-4b02-c01e-63dc8e51c941"
      },
      "execution_count": null,
      "outputs": [
        {
          "output_type": "stream",
          "name": "stdout",
          "text": [
            "2\n",
            "0\n",
            "2\n",
            "1\n"
          ]
        }
      ]
    },
    {
      "cell_type": "code",
      "source": [
        "#startswith\n",
        "x=\"Python Programming\"\n",
        "print(x.startswith('p'))\n",
        "print(x.startswith('P'))\n",
        "print(x.endswith('.'))"
      ],
      "metadata": {
        "colab": {
          "base_uri": "https://localhost:8080/"
        },
        "id": "T_8q9__JZMCC",
        "outputId": "967771bf-d962-4b3f-9b7c-5aa8437c60c1"
      },
      "execution_count": null,
      "outputs": [
        {
          "output_type": "stream",
          "name": "stdout",
          "text": [
            "False\n",
            "True\n",
            "False\n"
          ]
        }
      ]
    },
    {
      "cell_type": "code",
      "source": [
        "#endswith()\n",
        "x=\"Python Programming\"\n",
        "print(x.endswith(''))\n",
        "print(x.endswith(' '))\n",
        "print(x.endswith('.'))"
      ],
      "metadata": {
        "colab": {
          "base_uri": "https://localhost:8080/"
        },
        "id": "oMX--wuWjPZG",
        "outputId": "b313e1d2-8346-4634-9b74-bb93205f171d"
      },
      "execution_count": null,
      "outputs": [
        {
          "output_type": "stream",
          "name": "stdout",
          "text": [
            "True\n",
            "False\n",
            "False\n"
          ]
        }
      ]
    },
    {
      "cell_type": "code",
      "source": [
        "#expandtabs()\n",
        "x=\"Python\\tProgramming\"\n",
        "print(x.expandtabs(10))"
      ],
      "metadata": {
        "colab": {
          "base_uri": "https://localhost:8080/"
        },
        "id": "RuenUwjTjzB-",
        "outputId": "9dbafa58-127e-4cd0-d203-129c6cabcfb6"
      },
      "execution_count": null,
      "outputs": [
        {
          "output_type": "stream",
          "name": "stdout",
          "text": [
            "Python    Programming\n"
          ]
        }
      ]
    },
    {
      "cell_type": "code",
      "source": [
        "#find()\n",
        "x=\"Python Programming\"\n",
        "print(x.find('P'))\n",
        "print(x.find('g'))"
      ],
      "metadata": {
        "colab": {
          "base_uri": "https://localhost:8080/"
        },
        "id": "m-WzGbIVkFEb",
        "outputId": "f0e4a74e-997e-4070-960c-5f6c56c7379f"
      },
      "execution_count": null,
      "outputs": [
        {
          "output_type": "stream",
          "name": "stdout",
          "text": [
            "0\n",
            "10\n"
          ]
        }
      ]
    },
    {
      "cell_type": "code",
      "source": [
        "#rfind reverse find\n",
        "x=\"python programming\"\n",
        "print(x.rfind(\"p\"))"
      ],
      "metadata": {
        "colab": {
          "base_uri": "https://localhost:8080/"
        },
        "id": "9gMFAduGVKJK",
        "outputId": "eb1c0b79-48e4-422f-8842-1566cbacd40d"
      },
      "execution_count": null,
      "outputs": [
        {
          "output_type": "stream",
          "name": "stdout",
          "text": [
            "7\n"
          ]
        }
      ]
    },
    {
      "cell_type": "code",
      "source": [
        "#replace\n",
        "x=\"welcome welcome welcome to the world\"\n",
        "print(x.replace(\"welcome\",'say hi'))\n",
        "print(x.replace(\"welcome\",'say hi',2))\n",
        "print(x.replace(\"welcome\",'say hi',1))\n"
      ],
      "metadata": {
        "colab": {
          "base_uri": "https://localhost:8080/"
        },
        "id": "RK6m_QnoWMe-",
        "outputId": "aa9422b8-22d4-4fef-fd6d-7f42261e967b"
      },
      "execution_count": null,
      "outputs": [
        {
          "output_type": "stream",
          "name": "stdout",
          "text": [
            "say hi say hi say hi to the world\n",
            "say hi say hi welcome to the world\n",
            "say hi welcome welcome to the world\n"
          ]
        }
      ]
    },
    {
      "cell_type": "code",
      "source": [
        "#lstrip()\n",
        "x=\" Python Programming  \"\n",
        "print(x.lstrip(\"  \"))\n",
        "y=\"1234New version1234\"\n",
        "print(y.lstrip(\"1234\"))\n"
      ],
      "metadata": {
        "colab": {
          "base_uri": "https://localhost:8080/"
        },
        "id": "GMAms7b4ke6s",
        "outputId": "846c7678-0e2d-4257-8f09-96b48eab82a8"
      },
      "execution_count": null,
      "outputs": [
        {
          "output_type": "stream",
          "name": "stdout",
          "text": [
            "Python Programming  \n",
            "New version1234\n"
          ]
        }
      ]
    },
    {
      "cell_type": "code",
      "source": [
        "#rstrip()\n",
        "x=\" Python Programming  \"\n",
        "print(x.rstrip(\"  \"))\n",
        "y=\"1234New version1234\"\n",
        "print(y.rstrip(\"1234\"))\n"
      ],
      "metadata": {
        "colab": {
          "base_uri": "https://localhost:8080/"
        },
        "id": "JTJN3mFNlC6c",
        "outputId": "402e4dc0-9c65-4c5a-b66e-a03a925370e4"
      },
      "execution_count": null,
      "outputs": [
        {
          "output_type": "stream",
          "name": "stdout",
          "text": [
            " Python Programming\n",
            "1234New version\n"
          ]
        }
      ]
    },
    {
      "cell_type": "code",
      "source": [
        "#strip()\n",
        "x=\" Python Programming  \"\n",
        "print(x.strip(\"  \"))\n",
        "y=\"1234New version1234\"\n",
        "print(y.strip(\"1234\"))\n"
      ],
      "metadata": {
        "colab": {
          "base_uri": "https://localhost:8080/"
        },
        "id": "dQbGLQs2ZwX_",
        "outputId": "f7708bc2-7e48-4184-e49f-259914e725dc"
      },
      "execution_count": null,
      "outputs": [
        {
          "output_type": "stream",
          "name": "stdout",
          "text": [
            "Python Programming\n",
            "New version\n"
          ]
        }
      ]
    },
    {
      "cell_type": "code",
      "source": [
        "#partition()\n",
        "x=\"python programming in jupyter\"\n",
        "print(x.partition(\"programming\"))\n",
        "print(x.partition(\"jupyter\"))\n",
        "\n"
      ],
      "metadata": {
        "colab": {
          "base_uri": "https://localhost:8080/"
        },
        "id": "9ANebexdndHt",
        "outputId": "20c15c28-1be8-4ac1-fb04-e21e721e0232"
      },
      "execution_count": null,
      "outputs": [
        {
          "output_type": "stream",
          "name": "stdout",
          "text": [
            "('python ', 'programming', ' in jupyter')\n",
            "('python programming in ', 'jupyter', '')\n"
          ]
        }
      ]
    },
    {
      "cell_type": "code",
      "source": [
        "a=\"12345\"\n",
        "print(len(a))\n",
        "\n",
        "b=12345\n",
        "\n",
        "c=str(b)\n",
        "print(len(c))\n",
        "\n",
        "print(len(str(b)))"
      ],
      "metadata": {
        "colab": {
          "base_uri": "https://localhost:8080/"
        },
        "id": "hrus87Qbouj9",
        "outputId": "47a31169-681f-472a-e568-4ae035d62518"
      },
      "execution_count": null,
      "outputs": [
        {
          "output_type": "stream",
          "name": "stdout",
          "text": [
            "5\n",
            "5\n",
            "5\n"
          ]
        }
      ]
    },
    {
      "cell_type": "code",
      "source": [
        "#rsplit()\n",
        "x=\"python programming 2024\"\n",
        "print(x.split(\" \"))\n",
        "print(x.split(\"p\"))\n",
        "y=\"abcdabcd\"\n",
        "print(y.split(\"c\"))"
      ],
      "metadata": {
        "colab": {
          "base_uri": "https://localhost:8080/"
        },
        "id": "1NTu8EsrUwP0",
        "outputId": "6c5a4aab-3e18-46aa-eb8b-7cea8db4e881"
      },
      "execution_count": null,
      "outputs": [
        {
          "output_type": "stream",
          "name": "stdout",
          "text": [
            "['python', 'programming', '2024']\n",
            "['', 'ython ', 'rogramming 2024']\n",
            "['ab', 'dab', 'd']\n"
          ]
        }
      ]
    },
    {
      "cell_type": "code",
      "source": [
        "#splitlines()\n",
        "x=\"python\\nprogramming\\n 2024\"\n",
        "print(x.splitlines())\n"
      ],
      "metadata": {
        "colab": {
          "base_uri": "https://localhost:8080/"
        },
        "id": "CEeZGUxNYZwX",
        "outputId": "76199396-0287-4634-a412-dbf079c12a33"
      },
      "execution_count": null,
      "outputs": [
        {
          "output_type": "stream",
          "name": "stdout",
          "text": [
            "['python', 'programming', ' 2024']\n"
          ]
        }
      ]
    },
    {
      "cell_type": "code",
      "source": [
        "#swapcase()\n",
        "x=\"welcome to the world\"\n",
        "print(x.swapcase())\n",
        "x=\"WELCOME TO THE WORLD\"\n",
        "print(x.swapcase())\n",
        "x=\"WELCome TO The WORLD\"\n",
        "print(x.swapcase())\n"
      ],
      "metadata": {
        "colab": {
          "base_uri": "https://localhost:8080/"
        },
        "id": "xyHU6xIgZ_xY",
        "outputId": "2d65259a-f3be-4553-d8f4-bc4d3c82f94e"
      },
      "execution_count": null,
      "outputs": [
        {
          "output_type": "stream",
          "name": "stdout",
          "text": [
            "WELCOME TO THE WORLD\n",
            "welcome to the world\n",
            "welcOME to tHE world\n"
          ]
        }
      ]
    },
    {
      "cell_type": "code",
      "source": [
        "#translate()\n",
        "x={97:100}\n",
        "print(\"How are you\".translate(x))\n",
        "print(chr(97))\n",
        "print(ord('a'))\n"
      ],
      "metadata": {
        "colab": {
          "base_uri": "https://localhost:8080/"
        },
        "id": "hs4IcsF8axvN",
        "outputId": "e749c3bd-c55c-46f6-cd07-9a73c749d035"
      },
      "execution_count": null,
      "outputs": [
        {
          "output_type": "stream",
          "name": "stdout",
          "text": [
            "How dre you\n",
            "a\n",
            "97\n"
          ]
        }
      ]
    },
    {
      "cell_type": "code",
      "source": [
        "#maketrans()\n",
        "x=\"python programming\"\n",
        "ans1=str.maketrans(\"p\",\"P\")\n",
        "print(x.translate(ans1))\n",
        "a=\"python\"\n",
        "b=\"PYTHON\"\n",
        "ans2=str.maketrans(a,b)\n",
        "print(x.translate(ans2))\n"
      ],
      "metadata": {
        "colab": {
          "base_uri": "https://localhost:8080/"
        },
        "id": "oeaEEzIObegp",
        "outputId": "d9e69df5-26cc-4764-fca4-b1592b0877a6"
      },
      "execution_count": null,
      "outputs": [
        {
          "output_type": "stream",
          "name": "stdout",
          "text": [
            "Python Programming\n",
            "PYTHON PrOgrammiNg\n"
          ]
        }
      ]
    },
    {
      "cell_type": "code",
      "source": [
        "#z.fill()\n",
        "a=\"500\"\n",
        "b=\"total marks\"\n",
        "print(a.zfill(3))\n",
        "print(a.zfill(5))\n",
        "print(b.zfill(10))\n",
        "print(b.zfill(15))\n",
        "\n",
        "\n",
        "\n"
      ],
      "metadata": {
        "colab": {
          "base_uri": "https://localhost:8080/"
        },
        "id": "AwiwNGXYbint",
        "outputId": "ceeba2e7-39a0-4674-a738-fab07897214b"
      },
      "execution_count": null,
      "outputs": [
        {
          "output_type": "stream",
          "name": "stdout",
          "text": [
            "500\n",
            "00500\n",
            "total marks\n",
            "0000total marks\n"
          ]
        }
      ]
    },
    {
      "cell_type": "code",
      "execution_count": null,
      "metadata": {
        "colab": {
          "base_uri": "https://localhost:8080/"
        },
        "id": "YFDgcb4X3djW",
        "outputId": "f7809720-c2ca-4a84-b413-04c8a15a3711"
      },
      "outputs": [
        {
          "output_type": "stream",
          "name": "stdout",
          "text": [
            "o\n",
            "18\n",
            "r\n",
            "e\n",
            "d\n"
          ]
        }
      ],
      "source": [
        "#string lenght,for\n",
        "string=\"Python programming\"\n",
        "print(string[4])\n",
        "print(len(string))\n",
        "for i in \"red\":\n",
        "  print(i)\n"
      ]
    },
    {
      "cell_type": "code",
      "source": [
        "#true or false and yes or no\n",
        "y=\"My name is Banu\"\n",
        "print(\"Banu\" in y)\n",
        "print(\"banu\"in y)\n",
        "print(\"banu\" not in y)\n",
        "txt=\"the colour of apple is red\"\n",
        "if \"red\" in txt:\n",
        "  print(\"Yes its here\")\n",
        "else:\n",
        "    print(\"no\")\n",
        "\n"
      ],
      "metadata": {
        "colab": {
          "base_uri": "https://localhost:8080/"
        },
        "id": "DA6TmBv86tPi",
        "outputId": "2b497559-00aa-4224-87af-cb1674f4da16"
      },
      "execution_count": null,
      "outputs": [
        {
          "output_type": "stream",
          "name": "stdout",
          "text": [
            "True\n",
            "False\n",
            "True\n",
            "Yes its here\n"
          ]
        }
      ]
    },
    {
      "cell_type": "code",
      "source": [],
      "metadata": {
        "id": "2IwGuS30_Z0E"
      },
      "execution_count": null,
      "outputs": []
    },
    {
      "cell_type": "code",
      "source": [
        "txt=\"the colour of apple is red\"\n",
        "if \"blue\" in txt:\n",
        "  print(\"Yes its here\")\n",
        "else:\n",
        "    print(\"no\")\n",
        "\n"
      ],
      "metadata": {
        "colab": {
          "base_uri": "https://localhost:8080/"
        },
        "id": "brYwNdMb7TIO",
        "outputId": "53b49aca-cc5a-497c-8fea-c00782062975"
      },
      "execution_count": null,
      "outputs": [
        {
          "output_type": "stream",
          "name": "stdout",
          "text": [
            "no\n"
          ]
        }
      ]
    },
    {
      "cell_type": "code",
      "source": [
        "#Negative index\n",
        "a=\"strawberry\"\n",
        "print(a[-8:-4])\n",
        "print(a[-10:-5])\n",
        "print(a[-5:])\n",
        "print(a[-7:-3])\n",
        "\n"
      ],
      "metadata": {
        "colab": {
          "base_uri": "https://localhost:8080/"
        },
        "id": "ecYJ-fUm_cCr",
        "outputId": "b3eb8a1e-5f5b-4c6a-f83f-07e365fd3595"
      },
      "execution_count": null,
      "outputs": [
        {
          "output_type": "stream",
          "name": "stdout",
          "text": [
            "rawb\n",
            "straw\n",
            "berry\n",
            "awbe\n"
          ]
        }
      ]
    },
    {
      "cell_type": "code",
      "source": [
        "#positive index\n",
        "y=\"chickenshawarma\" #positive index\n",
        "print(y[:5]) #chick\n",
        "print(y[4:9]) #kensh\n",
        "print(y[7:]) #shawarma\n",
        "print(y[:7]) #chicken\n",
        "print(y[10:]) #warma\n",
        "print(y[7:13]) #shawar\n",
        "print(y[2:5]) #ick\n",
        "print(y[5:9]) #ensh\n",
        "print(y[12:]) #rma\n",
        "print(y[:3]) #chi\n",
        "\n",
        "\n",
        "\n"
      ],
      "metadata": {
        "colab": {
          "base_uri": "https://localhost:8080/"
        },
        "id": "z0SICAlKBmpF",
        "outputId": "23bf9f14-91b2-4834-b72b-6449aa4dc3b8"
      },
      "execution_count": null,
      "outputs": [
        {
          "output_type": "stream",
          "name": "stdout",
          "text": [
            "chick\n",
            "kensh\n",
            "shawarma\n",
            "chicken\n",
            "warma\n",
            "shawar\n",
            "ick\n",
            "ensh\n",
            "rma\n",
            "chi\n"
          ]
        }
      ]
    },
    {
      "cell_type": "code",
      "source": [
        "#negative index\n",
        "y=\"chickenshawarma\" #negative index\n",
        "print(y[-15:-10]) #chick\n",
        "print(y[-11:-6]) #kensh\n",
        "print(y[-8:]) #shawarma\n",
        "print(y[:-8]) #chicken\n",
        "print(y[-5:]) #warma\n",
        "print(y[-8:-2]) #shawar\n",
        "print(y[-13:-10]) #ick\n",
        "print(y[-10:-6]) #ensh\n",
        "print(y[-3:]) #rma\n",
        "print(y[-15:-12]) #chi"
      ],
      "metadata": {
        "colab": {
          "base_uri": "https://localhost:8080/"
        },
        "id": "V7U2EI9rJhRL",
        "outputId": "89c10e01-9e09-4943-c08a-e1581268ac06"
      },
      "execution_count": null,
      "outputs": [
        {
          "output_type": "stream",
          "name": "stdout",
          "text": [
            "chick\n",
            "kensh\n",
            "shawarma\n",
            "chicken\n",
            "warma\n",
            "shawar\n",
            "ick\n",
            "ensh\n",
            "rma\n",
            "chi\n"
          ]
        }
      ]
    },
    {
      "cell_type": "code",
      "source": [],
      "metadata": {
        "id": "Uz-KSqTAd1Oc"
      },
      "execution_count": null,
      "outputs": []
    },
    {
      "cell_type": "code",
      "execution_count": null,
      "metadata": {
        "colab": {
          "base_uri": "https://localhost:8080/"
        },
        "id": "e7WCJEW1dNY7",
        "outputId": "6302724a-e7de-4123-faaa-fbfc8c9de5a5"
      },
      "outputs": [
        {
          "output_type": "stream",
          "name": "stdout",
          "text": [
            "False\n",
            "True\n",
            "False\n",
            "False\n"
          ]
        }
      ],
      "source": [
        "#isspace\n",
        "a=\"Python Programming\"\n",
        "print(a.isspace())\n",
        "\n",
        "a=\" \"\n",
        "print(a.isspace())\n",
        "\n",
        "a=\"PythonProgramming\"\n",
        "print(a.isspace())\n",
        "\n",
        "a=\"\"\n",
        "print(a.isspace())\n",
        "\n"
      ]
    },
    {
      "cell_type": "code",
      "source": [
        "#istitle\n",
        "a=\"python programming\"\n",
        "b=\"Python Programming\"\n",
        "c=\"PYTHON\"\n",
        "print(a.istitle())\n",
        "print(b.istitle())\n",
        "print(c.istitle())"
      ],
      "metadata": {
        "id": "Eg46a5EudQQo",
        "colab": {
          "base_uri": "https://localhost:8080/"
        },
        "outputId": "6cb597c0-6586-4015-b5d8-7a571aecc303"
      },
      "execution_count": null,
      "outputs": [
        {
          "output_type": "stream",
          "name": "stdout",
          "text": [
            "False\n",
            "True\n",
            "False\n"
          ]
        }
      ]
    },
    {
      "cell_type": "code",
      "source": [
        "#join\n",
        "fruits=[\"apple\",\"orange\",\"grapes\"]\n",
        "print(\" \".join(fruits))\n",
        "\n",
        "fruits=[\"apple\",\"orange\",\"grapes\"]\n",
        "print(\"|\".join(fruits))\n",
        "\n",
        "fruits=[\"apple\",\"orange\",\"grapes\"]\n",
        "print(\"!\".join(fruits))\n",
        "\n",
        "fruit=[\"apple\"]\n",
        "print(\" | \".join(fruit))\n",
        "\n"
      ],
      "metadata": {
        "id": "ks8L80i2dQbT",
        "colab": {
          "base_uri": "https://localhost:8080/"
        },
        "outputId": "8b8736f8-7d79-4768-b466-8df496e243a2"
      },
      "execution_count": null,
      "outputs": [
        {
          "output_type": "stream",
          "name": "stdout",
          "text": [
            "apple orange grapes\n",
            "apple|orange|grapes\n",
            "apple!orange!grapes\n",
            "apple\n"
          ]
        }
      ]
    },
    {
      "cell_type": "code",
      "source": [
        "#ljust()\n",
        "a=\"Welcome to the world\"\n",
        "print(a.ljust(10))\n",
        "\n",
        "a=\"Welcome to the world\"\n",
        "print(a.ljust(70))"
      ],
      "metadata": {
        "id": "PjK0OubjdQd2",
        "colab": {
          "base_uri": "https://localhost:8080/"
        },
        "outputId": "e7d5ceb9-5884-46ba-b2fa-99fb97e58bf2"
      },
      "execution_count": null,
      "outputs": [
        {
          "output_type": "stream",
          "name": "stdout",
          "text": [
            "Welcome to the world\n",
            "Welcome to the world                                                  \n"
          ]
        }
      ]
    },
    {
      "cell_type": "code",
      "source": [
        "#rjust()\n",
        "a=\"Welcome to the world\"\n",
        "print(a.rjust(100))\n",
        "\n",
        "a=\"Welcome to the world\"\n",
        "print(a.rjust(70))\n"
      ],
      "metadata": {
        "id": "AQy9p6dpdQhb",
        "colab": {
          "base_uri": "https://localhost:8080/"
        },
        "outputId": "79434452-6fdd-4ad0-bbde-44ec6ca8042f"
      },
      "execution_count": null,
      "outputs": [
        {
          "output_type": "stream",
          "name": "stdout",
          "text": [
            "                                                                                Welcome to the world\n",
            "                                                  Welcome to the world\n"
          ]
        }
      ]
    },
    {
      "cell_type": "code",
      "source": [
        "#isspace\n",
        "a=\"Python Programming\"\n",
        "print(a.isspace())\n",
        "\n",
        "a=\" \"\n",
        "print(a.isspace())\n",
        "\n",
        "a=\"PythonProgramming\"\n",
        "print(a.isspace())\n",
        "\n",
        "a=\"\"\n",
        "print(a.isspace())\n",
        "\n"
      ],
      "metadata": {
        "colab": {
          "base_uri": "https://localhost:8080/"
        },
        "id": "Fr61DRSqe4la",
        "outputId": "bd549ff0-bc28-4403-b617-242b3e2a8b97"
      },
      "execution_count": null,
      "outputs": [
        {
          "output_type": "stream",
          "name": "stdout",
          "text": [
            "False\n",
            "True\n",
            "False\n",
            "False\n"
          ]
        }
      ]
    },
    {
      "cell_type": "code",
      "source": [
        "#istitle\n",
        "a=\"python programming\"\n",
        "b=\"Python Programming\"\n",
        "c=\"PYTHON\"\n",
        "print(a.istitle())\n",
        "print(b.istitle())\n",
        "print(c.istitle())"
      ],
      "metadata": {
        "colab": {
          "base_uri": "https://localhost:8080/"
        },
        "id": "-XjD18Xse4wP",
        "outputId": "ee612e42-1e1c-4ad1-fb1b-c4bfbb447b8c"
      },
      "execution_count": null,
      "outputs": [
        {
          "output_type": "stream",
          "name": "stdout",
          "text": [
            "False\n",
            "True\n",
            "False\n"
          ]
        }
      ]
    },
    {
      "cell_type": "code",
      "source": [
        "#join\n",
        "fruits=[\"apple\",\"orange\",\"grapes\"]\n",
        "print(\" \".join(fruits))\n",
        "\n",
        "fruits=[\"apple\",\"orange\",\"grapes\"]\n",
        "print(\"|\".join(fruits))\n",
        "\n",
        "fruits=[\"apple\",\"orange\",\"grapes\"]\n",
        "print(\"!\".join(fruits))\n",
        "\n",
        "fruit=[\"apple\"]\n",
        "print(\" | \".join(fruit))"
      ],
      "metadata": {
        "colab": {
          "base_uri": "https://localhost:8080/"
        },
        "id": "4hyI_yTce4zC",
        "outputId": "c1119162-9f86-447e-ba2a-86061650bbad"
      },
      "execution_count": null,
      "outputs": [
        {
          "output_type": "stream",
          "name": "stdout",
          "text": [
            "apple orange grapes\n",
            "apple|orange|grapes\n",
            "apple!orange!grapes\n",
            "apple\n"
          ]
        }
      ]
    },
    {
      "cell_type": "code",
      "source": [
        "#ljust()\n",
        "a=\"Welcome to the world\"\n",
        "print(a.ljust(10))\n",
        "\n",
        "a=\"Welcome to the world\"\n",
        "print(a.ljust(70))"
      ],
      "metadata": {
        "colab": {
          "base_uri": "https://localhost:8080/"
        },
        "id": "lfzWYzAue42P",
        "outputId": "9188f181-30a9-4a50-8d7a-8ab893c4dfa8"
      },
      "execution_count": null,
      "outputs": [
        {
          "output_type": "stream",
          "name": "stdout",
          "text": [
            "Welcome to the world\n",
            "Welcome to the world                                                  \n"
          ]
        }
      ]
    },
    {
      "cell_type": "code",
      "source": [
        "#rjust()\n",
        "a=\"Welcome to the world\"\n",
        "print(a.rjust(100))\n",
        "\n",
        "a=\"Welcome to the world\"\n",
        "print(a.rjust(70))"
      ],
      "metadata": {
        "colab": {
          "base_uri": "https://localhost:8080/"
        },
        "id": "jnpctsS_e45E",
        "outputId": "d0d0bc04-7cf2-4a2a-8c56-e870dd320c73"
      },
      "execution_count": null,
      "outputs": [
        {
          "output_type": "stream",
          "name": "stdout",
          "text": [
            "                                                                                Welcome to the world\n",
            "                                                  Welcome to the world\n"
          ]
        }
      ]
    },
    {
      "cell_type": "code",
      "source": [
        "#isalnum\n",
        "a=\"python2024\"\n",
        "print(a.isalnum())"
      ],
      "metadata": {
        "colab": {
          "base_uri": "https://localhost:8080/"
        },
        "id": "y4W1Snm1e477",
        "outputId": "9eefbddb-3ba9-44b3-9c79-5af0d8f183c2"
      },
      "execution_count": null,
      "outputs": [
        {
          "output_type": "stream",
          "name": "stdout",
          "text": [
            "True\n"
          ]
        }
      ]
    },
    {
      "cell_type": "code",
      "source": [
        "#isalpha\n",
        "a=\"python2024\"\n",
        "print(a.isalpha())\n",
        "a=\"python\"\n",
        "print(a.isalpha())\n"
      ],
      "metadata": {
        "colab": {
          "base_uri": "https://localhost:8080/"
        },
        "id": "YKj09738e4_S",
        "outputId": "0eb4d288-a562-496e-af22-2f6e20f7b25e"
      },
      "execution_count": null,
      "outputs": [
        {
          "output_type": "stream",
          "name": "stdout",
          "text": [
            "False\n",
            "True\n"
          ]
        }
      ]
    },
    {
      "cell_type": "code",
      "source": [
        "#isnumeric\n",
        "\n",
        "a=\"python2024\"\n",
        "print(a.isnumeric())\n",
        "\n",
        "a=\"2024\"\n",
        "print(a.isnumeric())"
      ],
      "metadata": {
        "colab": {
          "base_uri": "https://localhost:8080/"
        },
        "id": "8y4Bseg5e5CK",
        "outputId": "ad55f1f7-07dd-4b01-c27c-b277f9083d30"
      },
      "execution_count": null,
      "outputs": [
        {
          "output_type": "stream",
          "name": "stdout",
          "text": [
            "False\n",
            "True\n"
          ]
        }
      ]
    },
    {
      "cell_type": "code",
      "source": [
        "a=\"python2024\"\n",
        "print(a.isascii())\n",
        "\n",
        "a=\"python2024/$\"\n",
        "print(a.isascii())\n"
      ],
      "metadata": {
        "colab": {
          "base_uri": "https://localhost:8080/"
        },
        "id": "Il7SLG8kfZXD",
        "outputId": "c6305dab-8faf-417e-e4d8-deb229c0f140"
      },
      "execution_count": null,
      "outputs": [
        {
          "output_type": "stream",
          "name": "stdout",
          "text": [
            "True\n",
            "True\n"
          ]
        }
      ]
    },
    {
      "cell_type": "code",
      "source": [
        "a=\"a\"\n",
        "print(ord(a))\n",
        "a=65\n",
        "print(chr(a))\n",
        "b=\"b\"\n",
        "print(ord(b))\n"
      ],
      "metadata": {
        "colab": {
          "base_uri": "https://localhost:8080/"
        },
        "id": "PFBwWcBBfZZU",
        "outputId": "8f0e47eb-6c8c-43ab-e729-794a671adb5c"
      },
      "execution_count": null,
      "outputs": [
        {
          "output_type": "stream",
          "name": "stdout",
          "text": [
            "97\n",
            "A\n",
            "98\n"
          ]
        }
      ]
    },
    {
      "cell_type": "code",
      "source": [
        "#isdigit\n",
        "a=\"python2024\"\n",
        "print(a.isdigit())\n",
        "a=\"python\"\n",
        "print(a.isdigit())\n",
        "a=\"2024\"\n",
        "print(a.isdigit())"
      ],
      "metadata": {
        "colab": {
          "base_uri": "https://localhost:8080/"
        },
        "id": "U40MyFu-ffjj",
        "outputId": "cdc9f731-91a8-431f-854c-1999e14412c7"
      },
      "execution_count": null,
      "outputs": [
        {
          "output_type": "stream",
          "name": "stdout",
          "text": [
            "False\n",
            "False\n",
            "True\n"
          ]
        }
      ]
    },
    {
      "cell_type": "code",
      "source": [
        "#islower\n",
        "a=\"python2024\"\n",
        "print(a.islower())"
      ],
      "metadata": {
        "colab": {
          "base_uri": "https://localhost:8080/"
        },
        "id": "tLuBVH6pffmJ",
        "outputId": "f08d184e-ec0a-4846-a501-4f8740d89c00"
      },
      "execution_count": null,
      "outputs": [
        {
          "output_type": "stream",
          "name": "stdout",
          "text": [
            "True\n"
          ]
        }
      ]
    },
    {
      "cell_type": "code",
      "source": [
        "#isdecimal\n",
        "a=\"2\"\n",
        "print(a.isdecimal())\n",
        "a=\"2.00\"\n",
        "print(a.isdecimal())"
      ],
      "metadata": {
        "colab": {
          "base_uri": "https://localhost:8080/"
        },
        "id": "hgsqZKdKffpr",
        "outputId": "9ec8b4bf-02fd-4185-9e06-ba11b5ce5ebf"
      },
      "execution_count": null,
      "outputs": [
        {
          "output_type": "stream",
          "name": "stdout",
          "text": [
            "True\n",
            "False\n"
          ]
        }
      ]
    },
    {
      "cell_type": "code",
      "source": [
        "#index\n",
        "a=\"python_new_version2024\"\n",
        "print(a.index('p'))\n",
        "print(a.index('o',7,17))"
      ],
      "metadata": {
        "colab": {
          "base_uri": "https://localhost:8080/"
        },
        "id": "wYONv9nIfZdH",
        "outputId": "70ba5f9a-23fd-48b5-bb73-db85c55957e7"
      },
      "execution_count": null,
      "outputs": [
        {
          "output_type": "stream",
          "name": "stdout",
          "text": [
            "0\n",
            "16\n"
          ]
        }
      ]
    },
    {
      "cell_type": "code",
      "source": [
        "#find\n",
        "a=\"python\"\n",
        "print(a.find('h'))\n",
        "a=\"2024\"\n",
        "print(a.find('h'))"
      ],
      "metadata": {
        "colab": {
          "base_uri": "https://localhost:8080/"
        },
        "id": "2Euj5_5TfrDL",
        "outputId": "bf0f282b-1989-4980-816b-d0279b2d0339"
      },
      "execution_count": null,
      "outputs": [
        {
          "output_type": "stream",
          "name": "stdout",
          "text": [
            "3\n",
            "-1\n"
          ]
        }
      ]
    },
    {
      "cell_type": "code",
      "source": [
        "#format_map\n",
        "a={\"red\":\"strawberry\",\"blue\":\"blueberry\"}\n",
        "print('{red}'.format_map(a))\n",
        "\n",
        "print('{red}\\t{blue}'.format_map(a))"
      ],
      "metadata": {
        "colab": {
          "base_uri": "https://localhost:8080/"
        },
        "id": "LWHuBV_1frOJ",
        "outputId": "a3a7ec9f-5fb7-442e-99fd-064b452d1ff1"
      },
      "execution_count": null,
      "outputs": [
        {
          "output_type": "stream",
          "name": "stdout",
          "text": [
            "strawberry\n",
            "strawberry\tblueberry\n"
          ]
        }
      ]
    },
    {
      "cell_type": "code",
      "source": [
        "#isidentifier\n",
        "a=\"demo\"\n",
        "print(a.isidentifier())\n",
        "a=\"demo$\"\n",
        "print(a.isidentifier())\n",
        "a=\"de_mo\"\n",
        "print(a.isidentifier())\n",
        "a=\"2demo\"\n",
        "print(a.isidentifier())\n",
        "a=\"de.mo\"\n",
        "print(a.isidentifier())"
      ],
      "metadata": {
        "colab": {
          "base_uri": "https://localhost:8080/"
        },
        "id": "2UhfXGSdfrRC",
        "outputId": "2ae413e3-9e27-4941-e7d5-72e90fb9cbd6"
      },
      "execution_count": null,
      "outputs": [
        {
          "output_type": "stream",
          "name": "stdout",
          "text": [
            "True\n",
            "False\n",
            "True\n",
            "False\n",
            "False\n"
          ]
        }
      ]
    },
    {
      "cell_type": "code",
      "source": [
        "#\\' \\s \\\\s \\n \\t\n",
        "a=\"It\\'s an Apple\"\n",
        "print(a)\n",
        "a=\"It's an Apple\"\n",
        "print(a)\n",
        "a=\"It\\\\'s an Apple\"\n",
        "print(a)\n",
        "a='It\\'s an Apple'\n",
        "print(a)\n",
        "a=\"It\\\"s an Apple\"\n",
        "#print(a)a=\"It\\\"s an Apple\"\n",
        "#print(a)\n",
        "#print(a)a='It\\\"s an Apple'\n",
        "#print(a)\n",
        "b=\"good for your health\"\n",
        "print(a,\"\\n\",b)"
      ],
      "metadata": {
        "colab": {
          "base_uri": "https://localhost:8080/"
        },
        "id": "imqWzNu-frUf",
        "outputId": "28c96510-b9fe-41a8-b2cf-dab29e7f6c5d"
      },
      "execution_count": null,
      "outputs": [
        {
          "output_type": "stream",
          "name": "stdout",
          "text": [
            "It's an Apple\n",
            "It's an Apple\n",
            "It\\'s an Apple\n",
            "It's an Apple\n",
            "It\"s an Apple \n",
            " good for your health\n"
          ]
        }
      ]
    },
    {
      "cell_type": "code",
      "source": [
        "#isidentifier()\n",
        "a=\"demo$\"\n",
        "print(a.isidentifier())\n",
        "\n",
        "a=\"demo\"\n",
        "print(a.isidentifier())\n",
        "\n",
        "a=\"_demo\"\n",
        "print(a.isidentifier())\n",
        "\n",
        "a=\"12demo\"\n",
        "print(a.isidentifier())"
      ],
      "metadata": {
        "colab": {
          "base_uri": "https://localhost:8080/"
        },
        "id": "iWEMRG-de5FT",
        "outputId": "a93c082e-0264-4ea0-95c8-3df3ffdc416b"
      },
      "execution_count": null,
      "outputs": [
        {
          "output_type": "stream",
          "name": "stdout",
          "text": [
            "False\n",
            "True\n",
            "True\n",
            "False\n"
          ]
        }
      ]
    },
    {
      "cell_type": "code",
      "source": [
        "#isprintable\n",
        "d=\"welcome to the world\"\n",
        "e=\"welcome \\n #!\"\n",
        "f=\"welcome #!\"\n",
        "g=\"welcome \\110 #!\"\n",
        "h=\"welcome\"\n",
        "print(d.isprintable())\n",
        "print(e.isprintable())\n",
        "print(f.isprintable())\n",
        "print(g.isprintable())\n",
        "print(h.isprintable())"
      ],
      "metadata": {
        "colab": {
          "base_uri": "https://localhost:8080/"
        },
        "id": "U_c_MNdJgHRN",
        "outputId": "8cfb4815-d2b4-4aed-9998-1ee00deeac59"
      },
      "execution_count": null,
      "outputs": [
        {
          "output_type": "stream",
          "name": "stdout",
          "text": [
            "True\n",
            "False\n",
            "True\n",
            "True\n",
            "True\n"
          ]
        }
      ]
    },
    {
      "cell_type": "code",
      "source": [
        "#octal,hex value\n",
        "a=\"\\110\\105\\114\\114\\117\" #\\000 octal value\n",
        "print(a)\n",
        "\n",
        "b=\"\\110\\105\\114\\114\\053\\117\"  #\\000 octal value using plus(+)value\n",
        "print(b)\n",
        "\n",
        "c=\"\\x48\\x45\\x4c\\x4c\\x4f\"  #\\xhh Hexa value"
      ],
      "metadata": {
        "colab": {
          "base_uri": "https://localhost:8080/"
        },
        "id": "gCEoW85mgHaS",
        "outputId": "5f25bc94-6095-4e6e-b009-87db5d63033d"
      },
      "execution_count": null,
      "outputs": [
        {
          "output_type": "stream",
          "name": "stdout",
          "text": [
            "HELLO\n",
            "HELL+O\n"
          ]
        }
      ]
    }
  ]
}